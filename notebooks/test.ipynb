{
 "cells": [
  {
   "cell_type": "markdown",
   "metadata": {
    "collapsed": true,
    "pycharm": {
     "name": "#%% md\n"
    }
   },
   "source": [
    "# FAIR Metrics Generator"
   ]
  },
  {
   "cell_type": "markdown",
   "source": [
    "Importaciones"
   ],
   "metadata": {
    "collapsed": false,
    "pycharm": {
     "name": "#%% md\n",
     "is_executing": false
    }
   }
  },
  {
   "cell_type": "code",
   "execution_count": 38,
   "outputs": [],
   "source": [
    "import pandas as pd\n",
    "import os"
   ],
   "metadata": {
    "collapsed": false,
    "pycharm": {
     "name": "#%%\n",
     "is_executing": false
    }
   }
  },
  {
   "cell_type": "code",
   "execution_count": 39,
   "outputs": [
    {
     "name": "stdout",
     "text": [
      "C:\\Users\\druiz\\repositorios\n            FACET PRINCIPLE  INDICATOR_ID   PRIORITY METRIC  SCORE\n0        FINDABLE        F1    RDA-F1-01M  Essential      4      1\n1        FINDABLE        F1    RDA-F1-01D  Essential      4      1\n2        FINDABLE        F1    RDA-F1-02M  Essential     14      1\n3        FINDABLE        F1    RDA-F1-02D  Essential      4      1\n4        FINDABLE        F2    RDA-F2-01M  Essential      4      1\n5        FINDABLE        F3    RDA-F3-01M  Essential      4      1\n6        FINDABLE        F4    RDA-F4-01M  Essential      4      1\n7      ACCESSIBLE        A1    RDA-A1-01M  Important      2      0\n8      ACCESSIBLE        A1    RDA-A1-02M  Essential      4      1\n9      ACCESSIBLE        A1    RDA-A1-02D  Essential      4      1\n10     ACCESSIBLE        A1    RDA-A1-03M  Essential      4      1\n11     ACCESSIBLE        A1    RDA-A1-03D  Essential      4      1\n12     ACCESSIBLE        A1    RDA-A1-04M  Essential      4      1\n13     ACCESSIBLE        A1    RDA-A1-04D  Essential      4      1\n14     ACCESSIBLE        A1    RDA-A1-05D  Important      4      1\n15     ACCESSIBLE      A1.1  RDA-A1.1-01M  Essential      4      1\n16     ACCESSIBLE      A1.1  RDA-A1.1-01D  Important      4      1\n17     ACCESSIBLE      A1.2  RDA-A1.2-02D     Useful      4      1\n18     ACCESSIBLE        A2    RDA-A2-01M  Essential      4      1\n19  INTEROPERABLE        I1    RDA-I1-01M  Important      4      1\n20  INTEROPERABLE        I1    RDA-I1-01D  Important      4      1\n21  INTEROPERABLE        I1    RDA-I1-02M  Important      4      1\n22  INTEROPERABLE        I1    RDA-I1-02D  Important      4      1\n23  INTEROPERABLE        I2    RDA-I2-01M  Important      4      1\n24  INTEROPERABLE        I2    RDA-I2-01D     Useful      4      1\n25  INTEROPERABLE        I3    RDA-I3-01M  Important      4      1\n26  INTEROPERABLE        I3    RDA-I3-01D     Useful      4      1\n27  INTEROPERABLE        I3    RDA-I3-02M     Useful      2      0\n28  INTEROPERABLE        I3    RDA-I3-02D     Useful      2      0\n29  INTEROPERABLE        I3    RDA-I3-03M  Important      2      0\n30  INTEROPERABLE        I3    RDA-I3-04M     Useful      2      0\n31       REUSABLE        R1    RDA-R1-01M  Essential      2      0\n32       REUSABLE      R1.1  RDA-R1.1-01M  Essential      4      1\n33       REUSABLE      R1.1  RDA-R1.1-02M  Important      4      1\n34       REUSABLE      R1.1  RDA-R1.1-03M  Important      4      1\n35       REUSABLE      R1.2  RDA-R1.2-01M  Important      4      1\n36       REUSABLE      R1.2  RDA-R1.2-02M     Useful      4      1\n37       REUSABLE      R1.3  RDA-R1.3-01M  Essential      4      1\n38       REUSABLE      R1.3  RDA-R1.3-01D  Essential      4      1\n39       REUSABLE      R1.3  RDA-R1.3-02M  Essential      4      1\n40       REUSABLE      R1.3  RDA-R1.3-02D  Important      4      1\n"
     ],
     "output_type": "stream"
    }
   ],
   "source": [
    "print(os.getcwd())\n",
    "eval = pd.read_csv(\"UM/fair-metrics-evaluation/data/FAIR_evaluation.csv\")\n",
    "#eval[eval['INDICATOR_ID'] == 'RDA-F1-02M']['METRIC'] = 14\n",
    "eval.loc[eval['INDICATOR_ID'] == 'RDA-F1-02M', ['METRIC']] = '14'\n",
    "print(eval)"
   ],
   "metadata": {
    "collapsed": false,
    "pycharm": {
     "name": "#%% \n",
     "is_executing": false
    }
   }
  }
 ],
 "metadata": {
  "kernelspec": {
   "name": "pycharm-5e293e43",
   "language": "python",
   "display_name": "PyCharm (fair-metrics-generator)"
  },
  "language_info": {
   "codemirror_mode": {
    "name": "ipython",
    "version": 2
   },
   "file_extension": ".py",
   "mimetype": "text/x-python",
   "name": "python",
   "nbconvert_exporter": "python",
   "pygments_lexer": "ipython2",
   "version": "2.7.6"
  },
  "pycharm": {
   "stem_cell": {
    "cell_type": "raw",
    "source": [],
    "metadata": {
     "collapsed": false
    }
   }
  }
 },
 "nbformat": 4,
 "nbformat_minor": 0
}